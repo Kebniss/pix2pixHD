{
 "cells": [
  {
   "cell_type": "markdown",
   "metadata": {},
   "source": [
    "# Just a bunch of notes"
   ]
  },
  {
   "cell_type": "markdown",
   "metadata": {},
   "source": [
    "- Link to the blog post: https://medium.com/@jctestud/video-generation-with-pix2pix-aed5b1b69f57\n",
    "- Link to sample fire video: https://vimeo.com/62740159\n",
    "    - Download from here: https://player.vimeo.com/play/191172988?s=62740159_1560044336_d64980bdde7865741d011966bc039a6d&loc=external&context=Vimeo%5CController%5CClipController.main&download=1\n",
    "    \n",
    "- To run cmd line stuff, we need to activate conda for the command line python.\n",
    "    - **Important**: CMD starts in ~, your notebooks are in `/home/ec2-user/SageMaker/pix2pixHD`\n",
    "    - `conda env list` shows all envs\n",
    "    - `conda activate pytorch_p36` is the one we want\n",
    "    - If it says conda not found, do this:\n",
    "        1. `echo \". /home/ec2-user/anaconda3/etc/profile.d/conda.sh\" >> ~/.bashrc`\n",
    "        2. `source ~/.bashrc`\n",
    "    - Next up, intall ffmpeg. Use the `install_ffmpeg.sh` script."
   ]
  },
  {
   "cell_type": "code",
   "execution_count": 3,
   "metadata": {},
   "outputs": [],
   "source": [
    "import os"
   ]
  },
  {
   "cell_type": "code",
   "execution_count": 4,
   "metadata": {},
   "outputs": [
    {
     "data": {
      "text/plain": [
       "'/home/ec2-user/SageMaker/pix2pixHD'"
      ]
     },
     "execution_count": 4,
     "metadata": {},
     "output_type": "execute_result"
    }
   ],
   "source": [
    "os.getcwd()"
   ]
  },
  {
   "cell_type": "code",
   "execution_count": null,
   "metadata": {},
   "outputs": [],
   "source": []
  }
 ],
 "metadata": {
  "kernelspec": {
   "display_name": "conda_pytorch_p36",
   "language": "python",
   "name": "conda_pytorch_p36"
  },
  "language_info": {
   "codemirror_mode": {
    "name": "ipython",
    "version": 3
   },
   "file_extension": ".py",
   "mimetype": "text/x-python",
   "name": "python",
   "nbconvert_exporter": "python",
   "pygments_lexer": "ipython3",
   "version": "3.6.5"
  }
 },
 "nbformat": 4,
 "nbformat_minor": 2
}
