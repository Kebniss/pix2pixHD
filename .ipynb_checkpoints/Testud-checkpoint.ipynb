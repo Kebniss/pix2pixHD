{
 "cells": [
  {
   "cell_type": "markdown",
   "metadata": {},
   "source": [
    "# First time running this\n"
   ]
  },
  {
   "cell_type": "code",
   "execution_count": 2,
   "metadata": {},
   "outputs": [
    {
     "name": "stdout",
     "output_type": "stream",
     "text": [
      "Cloning into 'pix2pixHD'...\n",
      "remote: Enumerating objects: 5, done.\u001b[K\n",
      "remote: Counting objects: 100% (5/5), done.\u001b[K\n",
      "remote: Compressing objects: 100% (5/5), done.\u001b[K\n",
      "remote: Total 414 (delta 0), reused 3 (delta 0), pack-reused 409\u001b[K\n",
      "Receiving objects: 100% (414/414), 55.70 MiB | 76.01 MiB/s, done.\n",
      "Resolving deltas: 100% (198/198), done.\n",
      "Checking connectivity... done.\n"
     ]
    }
   ],
   "source": [
    "!git clone https://github.com/Kebniss/pix2pixHD.git"
   ]
  },
  {
   "cell_type": "code",
   "execution_count": 3,
   "metadata": {},
   "outputs": [],
   "source": [
    "!cd pix2pixHD"
   ]
  },
  {
   "cell_type": "markdown",
   "metadata": {},
   "source": [
    "- Link to the blog post: https://medium.com/@jctestud/video-generation-with-pix2pix-aed5b1b69f57\n",
    "- Link to sample fire video: https://vimeo.com/62740159\n",
    "    - Click download\n",
    "    - Right mouse click on Original -> copy link url\n",
    "    - Run this command in terminal: `wget -O fire.mp4 copied_url`\n",
    "    \n",
    "- To run cmd line stuff, we need to activate conda for the command line python.\n",
    "    - **Important**: CMD starts in ~, your notebooks are in `/pix2pixHD`\n",
    "    - `cd /pix2pixHD`\n",
    "    - `conda env list` shows all envs\n",
    "    - `conda activate pytorch_p36` is the one we want\n",
    "    - If it says conda not found, do this:\n",
    "        1. run `sudo dpkg-reconfigure dash` in terminal, answer no\n",
    "        2. `echo \". /home/ubuntu/anaconda3/etc/profile.d/conda.sh\" >> ~/.bashrc`\n",
    "        3. `source ~/.bashrc`\n",
    "    - Next up, intall ffmpeg. Use the `install_ffmpeg.sh` script.\n",
    "        - run each command in terminal"
   ]
  },
  {
   "cell_type": "code",
   "execution_count": 6,
   "metadata": {},
   "outputs": [],
   "source": [
    "!cd pix2pixHD"
   ]
  },
  {
   "cell_type": "code",
   "execution_count": 7,
   "metadata": {},
   "outputs": [
    {
     "name": "stdout",
     "output_type": "stream",
     "text": [
      "# conda environments:\r\n",
      "#\r\n",
      "base                  *  /home/ubuntu/anaconda3\r\n",
      "amazonei_mxnet_p27       /home/ubuntu/anaconda3/envs/amazonei_mxnet_p27\r\n",
      "amazonei_mxnet_p36       /home/ubuntu/anaconda3/envs/amazonei_mxnet_p36\r\n",
      "amazonei_tensorflow_p27     /home/ubuntu/anaconda3/envs/amazonei_tensorflow_p27\r\n",
      "amazonei_tensorflow_p36     /home/ubuntu/anaconda3/envs/amazonei_tensorflow_p36\r\n",
      "caffe2_p27               /home/ubuntu/anaconda3/envs/caffe2_p27\r\n",
      "caffe_p27                /home/ubuntu/anaconda3/envs/caffe_p27\r\n",
      "caffe_p35                /home/ubuntu/anaconda3/envs/caffe_p35\r\n",
      "chainer_p27              /home/ubuntu/anaconda3/envs/chainer_p27\r\n",
      "chainer_p36              /home/ubuntu/anaconda3/envs/chainer_p36\r\n",
      "cntk_p27                 /home/ubuntu/anaconda3/envs/cntk_p27\r\n",
      "cntk_p36                 /home/ubuntu/anaconda3/envs/cntk_p36\r\n",
      "mxnet_p27                /home/ubuntu/anaconda3/envs/mxnet_p27\r\n",
      "mxnet_p36                /home/ubuntu/anaconda3/envs/mxnet_p36\r\n",
      "python2                  /home/ubuntu/anaconda3/envs/python2\r\n",
      "python3                  /home/ubuntu/anaconda3/envs/python3\r\n",
      "pytorch_p27              /home/ubuntu/anaconda3/envs/pytorch_p27\r\n",
      "pytorch_p36              /home/ubuntu/anaconda3/envs/pytorch_p36\r\n",
      "tensorflow_p27           /home/ubuntu/anaconda3/envs/tensorflow_p27\r\n",
      "tensorflow_p36           /home/ubuntu/anaconda3/envs/tensorflow_p36\r\n",
      "theano_p27               /home/ubuntu/anaconda3/envs/theano_p27\r\n",
      "theano_p36               /home/ubuntu/anaconda3/envs/theano_p36\r\n",
      "\r\n"
     ]
    }
   ],
   "source": [
    "!conda env list"
   ]
  },
  {
   "cell_type": "code",
   "execution_count": 54,
   "metadata": {},
   "outputs": [],
   "source": [
    "!echo \". /home/ubuntu/anaconda3/etc/profile.d/conda.sh\" >> ~/.bashrc"
   ]
  },
  {
   "cell_type": "code",
   "execution_count": 36,
   "metadata": {},
   "outputs": [],
   "source": [
    "!echo \". /home/anaconda3/etc/profile.d/conda.sh\" >> ~/.bashrc"
   ]
  },
  {
   "cell_type": "code",
   "execution_count": 37,
   "metadata": {},
   "outputs": [],
   "source": [
    "!source ~/.bashrc"
   ]
  },
  {
   "cell_type": "code",
   "execution_count": 21,
   "metadata": {},
   "outputs": [
    {
     "name": "stdout",
     "output_type": "stream",
     "text": [
      "conda.csh  conda.sh\r\n"
     ]
    }
   ],
   "source": [
    "!ls anaconda3/etc/profile.d/conda.sh"
   ]
  },
  {
   "cell_type": "markdown",
   "metadata": {},
   "source": [
    "# Let's code\n",
    "You might have to install\n",
    "- pytorch: `conda install pytorch torchvision cudatoolkit=10.0 -c pytorch`\n",
    "- dominate: `conda install -c conda-forge dominate`"
   ]
  },
  {
   "cell_type": "code",
   "execution_count": 52,
   "metadata": {},
   "outputs": [
    {
     "name": "stdout",
     "output_type": "stream",
     "text": [
      "\u001b]0;root@ip-172-31-53-93: ~\u0007\u001b[01;32mroot@ip-172-31-53-93\u001b[00m:\u001b[01;34m~\u001b[00m# ^C\n",
      "\n",
      "\u001b]0;root@ip-172-31-53-93: ~\u0007\u001b[01;32mroot@ip-172-31-53-93\u001b[00m:\u001b[01;34m~\u001b[00m# "
     ]
    }
   ],
   "source": []
  },
  {
   "cell_type": "code",
   "execution_count": null,
   "metadata": {},
   "outputs": [],
   "source": []
  }
 ],
 "metadata": {
  "kernelspec": {
   "display_name": "Python 3",
   "language": "python",
   "name": "python3"
  },
  "language_info": {
   "codemirror_mode": {
    "name": "ipython",
    "version": 3
   },
   "file_extension": ".py",
   "mimetype": "text/x-python",
   "name": "python",
   "nbconvert_exporter": "python",
   "pygments_lexer": "ipython3",
   "version": "3.6.5"
  }
 },
 "nbformat": 4,
 "nbformat_minor": 2
}
